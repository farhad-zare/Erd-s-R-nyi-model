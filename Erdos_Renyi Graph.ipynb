{
 "cells": [
  {
   "cell_type": "code",
   "execution_count": 1,
   "id": "b74acfe8",
   "metadata": {},
   "outputs": [],
   "source": [
    "import networkx as nx\n",
    "import matplotlib.pyplot as plt \n",
    "import random\n"
   ]
  },
  {
   "cell_type": "code",
   "execution_count": 2,
   "id": "88494e36",
   "metadata": {},
   "outputs": [],
   "source": [
    "class Graph: \n",
    "    def __init__(self,n, A):#n is the nomber of node and A is the number of edges \n",
    "        self.n = n\n",
    "        self.A = A \n",
    "    \n",
    "    def ER_G(self,n,A): # Erdos_Renyi\n",
    "        # create an empty graph and add n nodes to it\n",
    "        G=nx.Graph()\n",
    "        G.add_nodes_from([i for i in range(n)])\n",
    "        edges=[]\n",
    "        t=0\n",
    "        # add the random adge to the graph\n",
    "        while t!=A:\n",
    "            i=random.randint(0,n-1)\n",
    "            j=random.randint(0,n-1) \n",
    "            if (i,j) not in edges:\n",
    "                G.add_edge(i,j)\n",
    "                edges.append((i,j))\n",
    "                t+=1\n",
    "        self_arrows=0\n",
    "        for k in range(n):\n",
    "            if (k,k) in edges:\n",
    "                 self_arrows+=1 \n",
    "                    \n",
    "        return G , self_arrows\n",
    "\n",
    "    def display_graph(self,G):\n",
    "            nx.draw(G)\n",
    "            plt.show()\n",
    "\n",
    "        "
   ]
  },
  {
   "cell_type": "code",
   "execution_count": 3,
   "id": "f7d9c903",
   "metadata": {},
   "outputs": [],
   "source": [
    "G=Graph(10,14)\n",
    "    "
   ]
  },
  {
   "cell_type": "code",
   "execution_count": 9,
   "id": "6c2064d8",
   "metadata": {},
   "outputs": [
    {
     "data": {
      "image/png": "[encoded data removed]",
      "text/plain": [
       "<Figure size 432x288 with 1 Axes>"
      ]
     },
     "metadata": {},
     "output_type": "display_data"
    }
   ],
   "source": [
    "G.display_graph(G.ER_G(10,14)[0])"
   ]
  },
  {
   "cell_type": "code",
   "execution_count": 5,
   "id": "e7a828e0",
   "metadata": {},
   "outputs": [],
   "source": [
    "Number_of_self_arrows=[]\n",
    "for i in range(100):\n",
    "    G=Graph(400,500)\n",
    "    Number_of_self_arrows.append(G.ER_G(10,14)[1])\n",
    "    \n"
   ]
  },
  {
   "cell_type": "code",
   "execution_count": 6,
   "id": "0a412aeb",
   "metadata": {},
   "outputs": [],
   "source": [
    "import statistics\n"
   ]
  },
  {
   "cell_type": "code",
   "execution_count": 7,
   "id": "faef5ae4",
   "metadata": {},
   "outputs": [
    {
     "name": "stdout",
     "output_type": "stream",
     "text": [
      "1.32\n",
      "0.9521904571390466\n"
     ]
    }
   ],
   "source": [
    "print(statistics.mean(Number_of_self_arrows))\n",
    "print(statistics.stdev(Number_of_self_arrows))"
   ]
  },
  {
   "cell_type": "code",
   "execution_count": null,
   "id": "dbced083",
   "metadata": {},
   "outputs": [],
   "source": []
  }
 ],
 "metadata": {
  "kernelspec": {
   "display_name": "Python 3 (ipykernel)",
   "language": "python",
   "name": "python3"
  },
  "language_info": {
   "codemirror_mode": {
    "name": "ipython",
    "version": 3
   },
   "file_extension": ".py",
   "mimetype": "text/x-python",
   "name": "python",
   "nbconvert_exporter": "python",
   "pygments_lexer": "ipython3",
   "version": "3.9.12"
  }
 },
 "nbformat": 4,
 "nbformat_minor": 5
}
